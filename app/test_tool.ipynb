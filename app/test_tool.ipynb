{
 "cells": [
  {
   "cell_type": "code",
   "execution_count": 2,
   "metadata": {},
   "outputs": [
    {
     "name": "stderr",
     "output_type": "stream",
     "text": [
      "Downloading LanguageTool: 100%|██████████| 189M/189M [00:31<00:00, 6.07MB/s] \n",
      "Unzipping /tmp/tmpz37qpiva.zip to /root/.cache/language_tool_python.\n",
      "Downloaded https://www.languagetool.org/download/LanguageTool-5.1.zip to /root/.cache/language_tool_python.\n"
     ]
    },
    {
     "data": {
      "text/plain": [
       "2"
      ]
     },
     "execution_count": 2,
     "metadata": {},
     "output_type": "execute_result"
    }
   ],
   "source": [
    "import language_tool_python as ltp\n",
    "tool = ltp.LanguageTool('en-US')\n",
    "text = 'A sentence with a error in the Hitchhiker’s Guide tot he Galaxy'\n",
    "matches = tool.check(text)\n",
    "len(matches)"
   ]
  },
  {
   "cell_type": "code",
   "execution_count": 5,
   "metadata": {},
   "outputs": [
    {
     "name": "stdout",
     "output_type": "stream",
     "text": [
      "['an']\n",
      "['to the']\n"
     ]
    }
   ],
   "source": [
    "for m in matches:\n",
    "    print(m.replacements)"
   ]
  },
  {
   "cell_type": "code",
   "execution_count": 66,
   "metadata": {},
   "outputs": [
    {
     "data": {
      "text/plain": [
       "str"
      ]
     },
     "execution_count": 66,
     "metadata": {},
     "output_type": "execute_result"
    }
   ],
   "source": [
    "type(tool.correct(text))"
   ]
  },
  {
   "cell_type": "markdown",
   "metadata": {},
   "source": [
    "## Now, Iterate through given Xlsx file\n",
    "This process requires:\n",
    "- xlrd\n",
    "- openpyxl\n",
    "- pandas"
   ]
  },
  {
   "cell_type": "code",
   "execution_count": 80,
   "metadata": {},
   "outputs": [
    {
     "data": {
      "text/html": [
       "<div>\n",
       "<style scoped>\n",
       "    .dataframe tbody tr th:only-of-type {\n",
       "        vertical-align: middle;\n",
       "    }\n",
       "\n",
       "    .dataframe tbody tr th {\n",
       "        vertical-align: top;\n",
       "    }\n",
       "\n",
       "    .dataframe thead th {\n",
       "        text-align: right;\n",
       "    }\n",
       "</style>\n",
       "<table border=\"1\" class=\"dataframe\">\n",
       "  <thead>\n",
       "    <tr style=\"text-align: right;\">\n",
       "      <th></th>\n",
       "      <th>test</th>\n",
       "      <th>원어민</th>\n",
       "      <th>고대</th>\n",
       "      <th>https://www.nounplus.net/</th>\n",
       "      <th>us</th>\n",
       "      <th>비고</th>\n",
       "    </tr>\n",
       "  </thead>\n",
       "  <tbody>\n",
       "    <tr>\n",
       "      <th>0</th>\n",
       "      <td>A little spark kindles great fire.</td>\n",
       "      <td>A little spark kindles a great fire.</td>\n",
       "      <td>NaN</td>\n",
       "      <td>NaN</td>\n",
       "      <td>NaN</td>\n",
       "      <td>NaN</td>\n",
       "    </tr>\n",
       "    <tr>\n",
       "      <th>1</th>\n",
       "      <td>After dinner, my mother suggested to go for a ...</td>\n",
       "      <td>After dinner, my mother suggested going for a ...</td>\n",
       "      <td>NaN</td>\n",
       "      <td>NaN</td>\n",
       "      <td>NaN</td>\n",
       "      <td>NaN</td>\n",
       "    </tr>\n",
       "    <tr>\n",
       "      <th>2</th>\n",
       "      <td>Although it’s raining, but she still go out.</td>\n",
       "      <td>Although it’s raining, she still goes out.</td>\n",
       "      <td>NaN</td>\n",
       "      <td>NaN</td>\n",
       "      <td>NaN</td>\n",
       "      <td>NaN</td>\n",
       "    </tr>\n",
       "    <tr>\n",
       "      <th>3</th>\n",
       "      <td>Are you a saler, Jame?</td>\n",
       "      <td>Are you a salesman, Jame?</td>\n",
       "      <td>NaN</td>\n",
       "      <td>NaN</td>\n",
       "      <td>NaN</td>\n",
       "      <td>NaN</td>\n",
       "    </tr>\n",
       "    <tr>\n",
       "      <th>4</th>\n",
       "      <td>Are your work busy ?</td>\n",
       "      <td>Do you have a busy job ?</td>\n",
       "      <td>NaN</td>\n",
       "      <td>NaN</td>\n",
       "      <td>NaN</td>\n",
       "      <td>NaN</td>\n",
       "    </tr>\n",
       "    <tr>\n",
       "      <th>...</th>\n",
       "      <td>...</td>\n",
       "      <td>...</td>\n",
       "      <td>...</td>\n",
       "      <td>...</td>\n",
       "      <td>...</td>\n",
       "      <td>...</td>\n",
       "    </tr>\n",
       "    <tr>\n",
       "      <th>166</th>\n",
       "      <td>You like ice cream, isn’t it?</td>\n",
       "      <td>You like ice cream, don’t you?</td>\n",
       "      <td>NaN</td>\n",
       "      <td>NaN</td>\n",
       "      <td>NaN</td>\n",
       "      <td>NaN</td>\n",
       "    </tr>\n",
       "    <tr>\n",
       "      <th>167</th>\n",
       "      <td>You may not realize that how important time is.</td>\n",
       "      <td>You may not realize how important time is.</td>\n",
       "      <td>NaN</td>\n",
       "      <td>NaN</td>\n",
       "      <td>NaN</td>\n",
       "      <td>NaN</td>\n",
       "    </tr>\n",
       "    <tr>\n",
       "      <th>168</th>\n",
       "      <td>You should describe what has happened detailly.</td>\n",
       "      <td>You should describe what has happened in detail.</td>\n",
       "      <td>NaN</td>\n",
       "      <td>NaN</td>\n",
       "      <td>NaN</td>\n",
       "      <td>NaN</td>\n",
       "    </tr>\n",
       "    <tr>\n",
       "      <th>169</th>\n",
       "      <td>Your advice is great significance.</td>\n",
       "      <td>Your advice is of great significance.</td>\n",
       "      <td>NaN</td>\n",
       "      <td>NaN</td>\n",
       "      <td>NaN</td>\n",
       "      <td>NaN</td>\n",
       "    </tr>\n",
       "    <tr>\n",
       "      <th>170</th>\n",
       "      <td>Your writing needs to be improving.</td>\n",
       "      <td>Your writing needs to be improved.</td>\n",
       "      <td>NaN</td>\n",
       "      <td>NaN</td>\n",
       "      <td>NaN</td>\n",
       "      <td>NaN</td>\n",
       "    </tr>\n",
       "  </tbody>\n",
       "</table>\n",
       "<p>171 rows × 6 columns</p>\n",
       "</div>"
      ],
      "text/plain": [
       "                                                  test  \\\n",
       "0                   A little spark kindles great fire.   \n",
       "1    After dinner, my mother suggested to go for a ...   \n",
       "2         Although it’s raining, but she still go out.   \n",
       "3                               Are you a saler, Jame?   \n",
       "4                                 Are your work busy ?   \n",
       "..                                                 ...   \n",
       "166                      You like ice cream, isn’t it?   \n",
       "167    You may not realize that how important time is.   \n",
       "168    You should describe what has happened detailly.   \n",
       "169                 Your advice is great significance.   \n",
       "170                Your writing needs to be improving.   \n",
       "\n",
       "                                                   원어민  고대  \\\n",
       "0                 A little spark kindles a great fire. NaN   \n",
       "1    After dinner, my mother suggested going for a ... NaN   \n",
       "2           Although it’s raining, she still goes out. NaN   \n",
       "3                            Are you a salesman, Jame? NaN   \n",
       "4                             Do you have a busy job ? NaN   \n",
       "..                                                 ...  ..   \n",
       "166                     You like ice cream, don’t you? NaN   \n",
       "167         You may not realize how important time is. NaN   \n",
       "168   You should describe what has happened in detail. NaN   \n",
       "169              Your advice is of great significance. NaN   \n",
       "170                 Your writing needs to be improved. NaN   \n",
       "\n",
       "     https://www.nounplus.net/  us  비고  \n",
       "0                          NaN NaN NaN  \n",
       "1                          NaN NaN NaN  \n",
       "2                          NaN NaN NaN  \n",
       "3                          NaN NaN NaN  \n",
       "4                          NaN NaN NaN  \n",
       "..                         ...  ..  ..  \n",
       "166                        NaN NaN NaN  \n",
       "167                        NaN NaN NaN  \n",
       "168                        NaN NaN NaN  \n",
       "169                        NaN NaN NaN  \n",
       "170                        NaN NaN NaN  \n",
       "\n",
       "[171 rows x 6 columns]"
      ]
     },
     "execution_count": 80,
     "metadata": {},
     "output_type": "execute_result"
    }
   ],
   "source": [
    "import pandas as pd\n",
    "import openpyxl as opx\n",
    "import xlrd\n",
    "\n",
    "xlsx = pd.read_excel('./comparison.xlsx')\n",
    "xlsx"
   ]
  },
  {
   "cell_type": "code",
   "execution_count": 81,
   "metadata": {},
   "outputs": [
    {
     "data": {
      "text/plain": [
       "0                     A little spark kindles great fire.\n",
       "1      After dinner, my mother suggested to go for a ...\n",
       "2           Although it’s raining, but she still go out.\n",
       "3                                 Are you a saler, Jame?\n",
       "4                                   Are your work busy ?\n",
       "                             ...                        \n",
       "166                        You like ice cream, isn’t it?\n",
       "167      You may not realize that how important time is.\n",
       "168      You should describe what has happened detailly.\n",
       "169                   Your advice is great significance.\n",
       "170                  Your writing needs to be improving.\n",
       "Name: test, Length: 171, dtype: object"
      ]
     },
     "execution_count": 81,
     "metadata": {},
     "output_type": "execute_result"
    }
   ],
   "source": [
    "data_corpus = xlsx['test']\n",
    "data_corpus"
   ]
  },
  {
   "cell_type": "code",
   "execution_count": 82,
   "metadata": {},
   "outputs": [
    {
     "data": {
      "text/plain": [
       "0                   A little spark kindles great fire.\n",
       "1    After dinner, my mother suggested going for a ...\n",
       "2       Although it’s raining, but she still goes out.\n",
       "3                                Are you a sale, Jame?\n",
       "4                                 Are your work busy ?\n",
       "Name: us, dtype: object"
      ]
     },
     "execution_count": 82,
     "metadata": {},
     "output_type": "execute_result"
    }
   ],
   "source": [
    "new_us = xlsx['us'].copy()\n",
    "\n",
    "i = 0\n",
    "for d in data_corpus:\n",
    "    new_us[i] = tool.correct(d)\n",
    "    i = i+1\n",
    "\n",
    "new_us.to_excel('./output_languageTool.xlsx')\n",
    "new_us.head()"
   ]
  },
  {
   "cell_type": "code",
   "execution_count": 83,
   "metadata": {},
   "outputs": [
    {
     "name": "stdout",
     "output_type": "stream",
     "text": [
      "A little spark kindled great fire.\n"
     ]
    }
   ],
   "source": [
    "from textblob import TextBlob as tb\n",
    "misspell = \"A little spark kindles great fire.\"\n",
    "corrected = tb(misspell).correct()\n",
    "print(corrected)"
   ]
  },
  {
   "cell_type": "code",
   "execution_count": 84,
   "metadata": {},
   "outputs": [
    {
     "data": {
      "text/plain": [
       "0    (A,  , l, i, t, t, l, e,  , s, p, a, r, k,  , ...\n",
       "1    (A, f, t, e, r,  , d, i, n, n, e, r, ,,  , m, ...\n",
       "2    (A, l, t, h, o, u, g, h,  , i, t, ’, s,  , r, ...\n",
       "3    (A, r, e,  , y, o, u,  , a,  , s, a, b, e, r, ...\n",
       "4    (A, r, e,  , y, o, u, r,  , w, o, r, k,  , b, ...\n",
       "Name: us, dtype: object"
      ]
     },
     "execution_count": 84,
     "metadata": {},
     "output_type": "execute_result"
    }
   ],
   "source": [
    "new_blob = xlsx['us'].copy()\n",
    "\n",
    "i = 0\n",
    "for d in data_corpus:\n",
    "    new_blob[i] = tb(d).correct()\n",
    "    i = i+1\n",
    "\n",
    "new_blob.to_excel('./output_textBlob.xlsx')\n",
    "new_blob.head()"
   ]
  },
  {
   "cell_type": "code",
   "execution_count": null,
   "metadata": {},
   "outputs": [],
   "source": []
  }
 ],
 "metadata": {
  "kernelspec": {
   "display_name": "Python 3",
   "language": "python",
   "name": "python3"
  },
  "language_info": {
   "codemirror_mode": {
    "name": "ipython",
    "version": 3
   },
   "file_extension": ".py",
   "mimetype": "text/x-python",
   "name": "python",
   "nbconvert_exporter": "python",
   "pygments_lexer": "ipython3",
   "version": "3.6.9"
  }
 },
 "nbformat": 4,
 "nbformat_minor": 4
}
